{
 "cells": [
  {
   "cell_type": "code",
   "execution_count": 71,
   "metadata": {},
   "outputs": [],
   "source": [
    "from pathlib import Path\n",
    "import csv\n",
    "import pandas as pd"
   ]
  },
  {
   "cell_type": "code",
   "execution_count": 72,
   "metadata": {},
   "outputs": [],
   "source": [
    "# loading the data\n",
    "\n",
    "notebook_dir = Path.cwd()\n",
    "# the data is located in data/raw folder\n",
    "data_dir = notebook_dir.parent.absolute() / 'data_raw'\n",
    "csv_dir_grouped = notebook_dir.parent.absolute() / 'clean_csvs' / 'messages_grouped_by_user'\n",
    "csv_dir_separate = notebook_dir.parent.absolute() / 'clean_csvs' / 'messages_separate'\n",
    "\n",
    "#convert txt of imessage texts to string\n",
    "path_raw = data_dir / 'luigi_discord.csv'\n",
    "path_csv_grouped = csv_dir_grouped / 'aarush-discord-grouped.csv'\n",
    "path_csv_separate = csv_dir_separate / 'aarush-discord-separate.csv'"
   ]
  },
  {
   "cell_type": "code",
   "execution_count": 73,
   "metadata": {},
   "outputs": [],
   "source": [
    "old_discord_df = pd.read_csv(path_raw)\n",
    "discord_df = pd.DataFrame()\n",
    "old_discord_df.to_csv('output.csv')\n"
   ]
  },
  {
   "cell_type": "code",
   "execution_count": 74,
   "metadata": {},
   "outputs": [
    {
     "name": "stdout",
     "output_type": "stream",
     "text": [
      "160575\n",
      "160575\n"
     ]
    }
   ],
   "source": [
    "#\"2023-10-28T22:28:06.2120000-07:00\" -> \"Mar 28, 2024  1:11:13 PM\" d/m/y H/M/S\n",
    "#convert the date to match the format of imsg 2024-03-25 21:51:40\n",
    "df = old_discord_df.copy()\n",
    "\n",
    "df['datetime'] = pd.to_datetime(df['Date'], utc = True)\n",
    "\n",
    "df['datetime_pacific'] = df['datetime'].dt.tz_convert('America/Los_Angeles')\n",
    "\n",
    "# Format the datetime column to the desired format (Y-m-d H:M:S)\n",
    "df['formatted_timestamp'] = df['datetime_pacific'].dt.strftime('%Y-%m-%d %H:%M:%S')\n",
    "\n",
    "# Display the DataFrame\n",
    "discord_df['date'] = df['formatted_timestamp']\n",
    "\n",
    "#verify no data was lost\n",
    "print(len(old_discord_df.axes[0]))\n",
    "print(len(discord_df['date'].axes[0]))\n",
    "\n"
   ]
  },
  {
   "cell_type": "code",
   "execution_count": 75,
   "metadata": {},
   "outputs": [],
   "source": [
    "old_discord_df['formatted_date'] = discord_df['date']"
   ]
  },
  {
   "cell_type": "code",
   "execution_count": 76,
   "metadata": {},
   "outputs": [],
   "source": [
    "discord_df.to_csv('output.csv')\n",
    "old_discord_df.to_csv('output2.csv')"
   ]
  },
  {
   "cell_type": "code",
   "execution_count": 77,
   "metadata": {},
   "outputs": [
    {
     "name": "stdout",
     "output_type": "stream",
     "text": [
      "Number of rows on September 15, 2022: 566\n"
     ]
    }
   ],
   "source": [
    "df = old_discord_df.copy()\n",
    "# Convert the 'Date' column to datetime with timezone info\n",
    "df['datetime'] = pd.to_datetime(df['Date'], utc=True)\n",
    "\n",
    "# Convert to desired format if needed\n",
    "df['formatted_timestamp'] = df['datetime'].dt.strftime('%Y-%m-%d %H:%M:%S')\n",
    "\n",
    "# Filter rows for September 15, 2022\n",
    "# Convert the date string to datetime for comparison\n",
    "target_date = pd.to_datetime('2022-09-15').date()\n",
    "filtered_df = df[df['datetime'].dt.date == target_date]\n",
    "\n",
    "# Print the number of rows on that date\n",
    "print(f\"Number of rows on September 15, 2022: {filtered_df.shape[0]}\")\n",
    "\n",
    "df.to_csv('output.csv')"
   ]
  },
  {
   "cell_type": "code",
   "execution_count": 78,
   "metadata": {},
   "outputs": [
    {
     "name": "stdout",
     "output_type": "stream",
     "text": [
      "                  date      user\n",
      "0  2019-11-20 19:00:12  Samyukta\n",
      "1  2019-11-20 19:00:15  Samyukta\n",
      "2  2019-11-20 19:00:23  Samyukta\n",
      "3  2019-11-20 19:00:30    Aarush\n",
      "4  2019-11-20 19:01:20  Samyukta\n"
     ]
    }
   ],
   "source": [
    "#convert from discord username to real names\n",
    "discord_df['user'] = old_discord_df['Author'].apply(lambda x: 'Samyukta' if x == 'kurankuu' else 'Aarush')\n",
    "print(discord_df.head())"
   ]
  },
  {
   "cell_type": "code",
   "execution_count": 79,
   "metadata": {},
   "outputs": [],
   "source": [
    "#add the texts as a column\n",
    "discord_df['text'] = old_discord_df['Content']\n"
   ]
  },
  {
   "cell_type": "code",
   "execution_count": 80,
   "metadata": {},
   "outputs": [],
   "source": [
    "#add the word count as a column\n",
    "# Define a function to count the number of words\n",
    "def count_words(text):\n",
    "    if pd.isna(text):\n",
    "        return 0\n",
    "    return len(text.split())\n",
    "\n",
    "# Apply the function to the 'text' column\n",
    "discord_df['word count'] = discord_df['text'].apply(count_words)"
   ]
  },
  {
   "cell_type": "code",
   "execution_count": 81,
   "metadata": {},
   "outputs": [
    {
     "name": "stdout",
     "output_type": "stream",
     "text": [
      "                  date      user                        text  word count\n",
      "0  2019-11-20 19:00:12  Samyukta                       hello           1\n",
      "1  2019-11-20 19:00:15  Samyukta                      apaphy           1\n",
      "2  2019-11-20 19:00:23  Samyukta        little bunny foo foo           4\n",
      "3  2019-11-20 19:00:30    Aarush  omg wow you finally accept           5\n",
      "4  2019-11-20 19:01:20  Samyukta                  haha ;))))           2\n"
     ]
    }
   ],
   "source": [
    "print(discord_df.head())"
   ]
  },
  {
   "cell_type": "code",
   "execution_count": 82,
   "metadata": {},
   "outputs": [
    {
     "name": "stdout",
     "output_type": "stream",
     "text": [
      "                       date      user                                  text  \\\n",
      "0       2019-11-20 19:00:12  Samyukta                                 hello   \n",
      "1       2019-11-20 19:00:15  Samyukta                                apaphy   \n",
      "2       2019-11-20 19:00:23  Samyukta                  little bunny foo foo   \n",
      "3       2019-11-20 19:00:30    Aarush            omg wow you finally accept   \n",
      "4       2019-11-20 19:01:20  Samyukta                            haha ;))))   \n",
      "...                     ...       ...                                   ...   \n",
      "160570  2024-07-30 19:33:42    Aarush                         WHAT THE FUCK   \n",
      "160571  2024-07-30 19:33:47    Aarush             i giggled so much at this   \n",
      "160572  2024-07-30 20:40:29  Samyukta         WHY DID U GIGGLE IM TERRIFIED   \n",
      "160573  2024-07-30 20:40:56    Aarush          BC OF WHAT I SAID SR THE TOP   \n",
      "160574  2024-07-30 20:41:07    Aarush  WE CAN FINALLY SEND PICS OF CHILDREN   \n",
      "\n",
      "        word count reactions platform  \n",
      "0                1       NaN  Discord  \n",
      "1                1       NaN  Discord  \n",
      "2                4       NaN  Discord  \n",
      "3                5       NaN  Discord  \n",
      "4                2       NaN  Discord  \n",
      "...            ...       ...      ...  \n",
      "160570           3       NaN  Discord  \n",
      "160571           6       NaN  Discord  \n",
      "160572           6       NaN  Discord  \n",
      "160573           8       NaN  Discord  \n",
      "160574           7       NaN  Discord  \n",
      "\n",
      "[160575 rows x 6 columns]\n"
     ]
    }
   ],
   "source": [
    "#'date', 'user', 'text', 'word count', 'number of separated texts', 'reactions', 'game pigeon', 'platform'\n",
    "\n",
    "discord_df['reactions'] = old_discord_df['Reactions']\n",
    "discord_df['platform'] = 'Discord'\n",
    "print(discord_df)\n",
    "\n",
    "discord_df.to_csv(path_csv_separate)"
   ]
  },
  {
   "cell_type": "code",
   "execution_count": 83,
   "metadata": {},
   "outputs": [],
   "source": [
    "#'date', 'user', 'text', 'word count', 'number of separated texts', 'reactions', 'game pigeon', 'platform'\n",
    "#group all the texts from one user that are next to each other in the csv. \n",
    "#the text column should have all the texts from that user combined into one string and separated by \\n\n",
    "#the number of separated texts column should have the number of rows that were merged\n",
    "\n",
    "# Function to combine consecutive messages from the same user\n",
    "def combine_consecutive_messages(df):\n",
    "    # Create a column to mark groups of consecutive rows with the same user\n",
    "    df['group'] = (df['user'] != df['user'].shift()).cumsum()\n",
    "    \n",
    "    # Group by 'user' and 'group', and aggregate the texts and count of messages\n",
    "    result_df = df.groupby(['user', 'group']).agg({\n",
    "        'text': lambda x: '\\n'.join(x),  # Combine texts with newline separator\n",
    "        'user': 'size'  # Count number of rows merged\n",
    "    }).rename(columns={'user': 'number of separated texts'})\n",
    "    \n",
    "    # Reset index to convert 'user' and 'group' to columns\n",
    "    result_df = result_df.reset_index()\n",
    "    \n",
    "    # Drop the 'group' column as it is no longer needed\n",
    "    result_df = result_df.drop(columns=['group'])\n",
    "    \n",
    "    return result_df\n",
    "discord_df['text'] = discord_df['text'].fillna('')\n",
    "discord_df['group'] = (discord_df['user'] != discord_df['user'].shift()).cumsum()\n",
    "discord_df['number of separated texts'] = discord_df['group']\n",
    "result_df = discord_df.groupby(['user', 'group']).agg({\n",
    "    'text': lambda x: '\\n'.join(x),  # Combine texts with newline separator\n",
    "    'date' : 'first',\n",
    "    'word count' : 'sum',\n",
    "    'user': 'size'  # Count number of rows merged\n",
    "}).rename(columns={'user': 'number of separated texts'})\n",
    "\n",
    "# Reset index to convert group columns back to regular columns\n",
    "result_df = result_df.reset_index()\n",
    "result_df = result_df.sort_values(by='date')\n",
    "result_df = result_df.drop('group', axis = 1)\n",
    "# Display the result\n",
    "\n",
    "\n"
   ]
  },
  {
   "cell_type": "code",
   "execution_count": 84,
   "metadata": {},
   "outputs": [],
   "source": [
    "result_df['reactions'] = old_discord_df['Reactions']\n",
    "result_df['platform'] = 'Discord'"
   ]
  },
  {
   "cell_type": "code",
   "execution_count": 85,
   "metadata": {},
   "outputs": [],
   "source": [
    "result_df.to_csv(path_csv_grouped)"
   ]
  }
 ],
 "metadata": {
  "kernelspec": {
   "display_name": "Python 3",
   "language": "python",
   "name": "python3"
  },
  "language_info": {
   "codemirror_mode": {
    "name": "ipython",
    "version": 3
   },
   "file_extension": ".py",
   "mimetype": "text/x-python",
   "name": "python",
   "nbconvert_exporter": "python",
   "pygments_lexer": "ipython3",
   "version": "3.11.9"
  }
 },
 "nbformat": 4,
 "nbformat_minor": 2
}
